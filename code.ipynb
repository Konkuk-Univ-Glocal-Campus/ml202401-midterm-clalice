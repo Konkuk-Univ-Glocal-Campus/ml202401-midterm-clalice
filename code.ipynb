{
 "cells": [
  {
   "cell_type": "code",
   "execution_count": null,
   "metadata": {},
   "outputs": [],
   "source": [
    "%pip install imblearn\n",
    "%pip install seaborn"
   ]
  },
  {
   "cell_type": "code",
   "execution_count": 12,
   "metadata": {},
   "outputs": [
    {
     "name": "stderr",
     "output_type": "stream",
     "text": [
      "/tmp/ipykernel_2076/2913699671.py:9: DtypeWarning: Columns (43,46,49) have mixed types. Specify dtype option on import or set low_memory=False.\n",
      "  data = pd.read_csv(\"학생건강검사_2022년_원자료(극단치제거).csv\")\n"
     ]
    }
   ],
   "source": [
    "\n",
    "import pandas as pd\n",
    "import matplotlib.pyplot as plt\n",
    "import matplotlib as mpl\n",
    "import numpy as np\n",
    "from sklearn.cluster import KMeans\n",
    "import matplotlib.pyplot as plt\n",
    "from imblearn.over_sampling import SMOTE\n",
    "from sklearn.cluster import KMeans\n",
    "data = pd.read_csv(\"학생건강검사_2022년_원자료(극단치제거).csv\")\n"
   ]
  },
  {
   "cell_type": "code",
   "execution_count": 13,
   "metadata": {},
   "outputs": [
    {
     "data": {
      "text/plain": [
       "Text(0.5, 1.0, 'Top genres')"
      ]
     },
     "execution_count": 13,
     "metadata": {},
     "output_type": "execute_result"
    },
    {
     "name": "stderr",
     "output_type": "stream",
     "text": [
      "/home/codespace/.local/lib/python3.10/site-packages/IPython/core/events.py:82: UserWarning: Glyph 54617 (\\N{HANGUL SYLLABLE HAG}) missing from current font.\n",
      "  func(*args, **kwargs)\n",
      "/home/codespace/.local/lib/python3.10/site-packages/IPython/core/events.py:82: UserWarning: Glyph 45380 (\\N{HANGUL SYLLABLE NYEON}) missing from current font.\n",
      "  func(*args, **kwargs)\n",
      "/home/codespace/.local/lib/python3.10/site-packages/IPython/core/pylabtools.py:152: UserWarning: Glyph 54617 (\\N{HANGUL SYLLABLE HAG}) missing from current font.\n",
      "  fig.canvas.print_figure(bytes_io, **kw)\n",
      "/home/codespace/.local/lib/python3.10/site-packages/IPython/core/pylabtools.py:152: UserWarning: Glyph 45380 (\\N{HANGUL SYLLABLE NYEON}) missing from current font.\n",
      "  fig.canvas.print_figure(bytes_io, **kw)\n"
     ]
    },
    {
     "data": {
      "image/png": "[encoded data removed]",
      "text/plain": [
       "<Figure size 1000x700 with 1 Axes>"
      ]
     },
     "metadata": {},
     "output_type": "display_data"
    }
   ],
   "source": [
    "import seaborn as sns\n",
    "\n",
    "top = data['학년'].value_counts()\n",
    "plt.figure(figsize=(10,7))\n",
    "sns.barplot(x=top[:5].index,y=top[:5].values)\n",
    "plt.xticks(rotation=45)\n",
    "plt.title('Top genres',color = 'blue')\n"
   ]
  },
  {
   "cell_type": "code",
   "execution_count": null,
   "metadata": {},
   "outputs": [],
   "source": [
    "import pandas as pd\n",
    "from sklearn.cluster import DBSCAN\n",
    "from sklearn.preprocessing import StandardScaler\n",
    "\n",
    "# CSV 파일 로드\n",
    "data = pd.read_csv(\"학생건강검사_2022년_원자료(극단치제거).csv\")\n",
    "\n",
    "# 혼합된 데이터 형식을 가지고 있는 열 제거\n",
    "mixed_type_columns = [43, 46, 49]  # 혼합된 데이터 형식을 가지고 있는 열의 인덱스\n",
    "data.drop(data.columns[mixed_type_columns], axis=1, inplace=True)\n",
    "\n",
    "# 누락된 값을 처리\n",
    "cleaned_data = data.dropna()\n",
    "\n",
    "# 전처리된 데이터를 새로운 파일로 저장 (선택사항)\n",
    "cleaned_data.to_csv(\"preprocessed_data.csv\", index=False)\n",
    "\n",
    "# 클러스터링에 사용할 특성 선택\n",
    "features = cleaned_data[['시도','학교급','학년','반','순번','성별']]\n",
    "\n",
    "# 특성 정규화\n",
    "scaler = StandardScaler()\n",
    "features_scaled = scaler.fit_transform(features)\n",
    "\n",
    "# DBSCAN 클러스터링 모델 정의\n",
    "dbscan = DBSCAN(eps=0.5, min_samples=6)  \n",
    "\n",
    "# 모델 피팅\n",
    "dbscan.fit(features_scaled)\n",
    "\n",
    "# 클러스터 할당 확인\n",
    "clusters = dbscan.labels_\n",
    "\n",
    "# 클러스터 결과를 원본 데이터에 추가\n",
    "cleaned_data['Cluster'] = clusters\n",
    "\n",
    "# 클러스터 결과 출력\n",
    "print(cleaned_data[['학년', '반', '성별', 'Cluster']])\n"
   ]
  }
 ],
 "metadata": {
  "kernelspec": {
   "display_name": "Python 3",
   "language": "python",
   "name": "python3"
  },
  "language_info": {
   "codemirror_mode": {
    "name": "ipython",
    "version": 3
   },
   "file_extension": ".py",
   "mimetype": "text/x-python",
   "name": "python",
   "nbconvert_exporter": "python",
   "pygments_lexer": "ipython3",
   "version": "3.10.13"
  }
 },
 "nbformat": 4,
 "nbformat_minor": 2
}
